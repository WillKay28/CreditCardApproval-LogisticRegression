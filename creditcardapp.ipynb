{
 "cells": [
  {
   "cell_type": "markdown",
   "id": "f1a450c4",
   "metadata": {},
   "source": [
    "# Modeling Credit Card Approval Data\n",
    "Several credit card applications are received by banks and other financial institutions all year round. Whether a customer's application is approved or not depends on several factors like income, employment status, age, credit worthiness among others. It's almost impossible to analyze these applications manually. Machine Learning models provide an automated process of approving or rejecting credit card applications. \n",
    "\n",
    "In this project, I analyze the approval ratings of credit cards with respect to features including gender, age, debt, married, bank customer, industry, ethnicity, years employed, prior default, employed, credit score, driver's license, citizen, zipcode, income and approved (target feature). I also quantify credit risks rate within each category of some selected features.\n"
   ]
  },
  {
   "cell_type": "code",
   "execution_count": 3,
   "id": "a46dc11c",
   "metadata": {},
   "outputs": [],
   "source": [
    "import pandas as pd\n",
    "import numpy as np\n",
    "import seaborn as sns\n",
    "from matplotlib import pyplot as plt\n",
    "from sklearn.model_selection import train_test_split\n",
    "%matplotlib inline"
   ]
  },
  {
   "cell_type": "markdown",
   "id": "4d4be31d",
   "metadata": {},
   "source": [
    "#### Data Description\n",
    "First, we examine a few rows of the data along with its columns (features). "
   ]
  },
  {
   "cell_type": "code",
   "execution_count": 4,
   "id": "cfd27141",
   "metadata": {},
   "outputs": [
    {
     "data": {
      "text/html": [
       "<div>\n",
       "<style scoped>\n",
       "    .dataframe tbody tr th:only-of-type {\n",
       "        vertical-align: middle;\n",
       "    }\n",
       "\n",
       "    .dataframe tbody tr th {\n",
       "        vertical-align: top;\n",
       "    }\n",
       "\n",
       "    .dataframe thead th {\n",
       "        text-align: right;\n",
       "    }\n",
       "</style>\n",
       "<table border=\"1\" class=\"dataframe\">\n",
       "  <thead>\n",
       "    <tr style=\"text-align: right;\">\n",
       "      <th></th>\n",
       "      <th>Gender</th>\n",
       "      <th>Age</th>\n",
       "      <th>Debt</th>\n",
       "      <th>Married</th>\n",
       "      <th>BankCustomer</th>\n",
       "      <th>Industry</th>\n",
       "      <th>Ethnicity</th>\n",
       "      <th>YearsEmployed</th>\n",
       "      <th>PriorDefault</th>\n",
       "      <th>Employed</th>\n",
       "      <th>CreditScore</th>\n",
       "      <th>DriversLicense</th>\n",
       "      <th>Citizen</th>\n",
       "      <th>ZipCode</th>\n",
       "      <th>Income</th>\n",
       "      <th>Approved</th>\n",
       "    </tr>\n",
       "  </thead>\n",
       "  <tbody>\n",
       "    <tr>\n",
       "      <th>0</th>\n",
       "      <td>1</td>\n",
       "      <td>30.83</td>\n",
       "      <td>0.000</td>\n",
       "      <td>1</td>\n",
       "      <td>1</td>\n",
       "      <td>Industrials</td>\n",
       "      <td>White</td>\n",
       "      <td>1.25</td>\n",
       "      <td>1</td>\n",
       "      <td>1</td>\n",
       "      <td>1</td>\n",
       "      <td>0</td>\n",
       "      <td>ByBirth</td>\n",
       "      <td>202</td>\n",
       "      <td>0</td>\n",
       "      <td>1</td>\n",
       "    </tr>\n",
       "    <tr>\n",
       "      <th>1</th>\n",
       "      <td>0</td>\n",
       "      <td>58.67</td>\n",
       "      <td>4.460</td>\n",
       "      <td>1</td>\n",
       "      <td>1</td>\n",
       "      <td>Materials</td>\n",
       "      <td>Black</td>\n",
       "      <td>3.04</td>\n",
       "      <td>1</td>\n",
       "      <td>1</td>\n",
       "      <td>6</td>\n",
       "      <td>0</td>\n",
       "      <td>ByBirth</td>\n",
       "      <td>43</td>\n",
       "      <td>560</td>\n",
       "      <td>1</td>\n",
       "    </tr>\n",
       "    <tr>\n",
       "      <th>2</th>\n",
       "      <td>0</td>\n",
       "      <td>24.50</td>\n",
       "      <td>0.500</td>\n",
       "      <td>1</td>\n",
       "      <td>1</td>\n",
       "      <td>Materials</td>\n",
       "      <td>Black</td>\n",
       "      <td>1.50</td>\n",
       "      <td>1</td>\n",
       "      <td>0</td>\n",
       "      <td>0</td>\n",
       "      <td>0</td>\n",
       "      <td>ByBirth</td>\n",
       "      <td>280</td>\n",
       "      <td>824</td>\n",
       "      <td>1</td>\n",
       "    </tr>\n",
       "    <tr>\n",
       "      <th>3</th>\n",
       "      <td>1</td>\n",
       "      <td>27.83</td>\n",
       "      <td>1.540</td>\n",
       "      <td>1</td>\n",
       "      <td>1</td>\n",
       "      <td>Industrials</td>\n",
       "      <td>White</td>\n",
       "      <td>3.75</td>\n",
       "      <td>1</td>\n",
       "      <td>1</td>\n",
       "      <td>5</td>\n",
       "      <td>1</td>\n",
       "      <td>ByBirth</td>\n",
       "      <td>100</td>\n",
       "      <td>3</td>\n",
       "      <td>1</td>\n",
       "    </tr>\n",
       "    <tr>\n",
       "      <th>4</th>\n",
       "      <td>1</td>\n",
       "      <td>20.17</td>\n",
       "      <td>5.625</td>\n",
       "      <td>1</td>\n",
       "      <td>1</td>\n",
       "      <td>Industrials</td>\n",
       "      <td>White</td>\n",
       "      <td>1.71</td>\n",
       "      <td>1</td>\n",
       "      <td>0</td>\n",
       "      <td>0</td>\n",
       "      <td>0</td>\n",
       "      <td>ByOtherMeans</td>\n",
       "      <td>120</td>\n",
       "      <td>0</td>\n",
       "      <td>1</td>\n",
       "    </tr>\n",
       "  </tbody>\n",
       "</table>\n",
       "</div>"
      ],
      "text/plain": [
       "   Gender    Age   Debt  Married  BankCustomer     Industry Ethnicity  \\\n",
       "0       1  30.83  0.000        1             1  Industrials     White   \n",
       "1       0  58.67  4.460        1             1    Materials     Black   \n",
       "2       0  24.50  0.500        1             1    Materials     Black   \n",
       "3       1  27.83  1.540        1             1  Industrials     White   \n",
       "4       1  20.17  5.625        1             1  Industrials     White   \n",
       "\n",
       "   YearsEmployed  PriorDefault  Employed  CreditScore  DriversLicense  \\\n",
       "0           1.25             1         1            1               0   \n",
       "1           3.04             1         1            6               0   \n",
       "2           1.50             1         0            0               0   \n",
       "3           3.75             1         1            5               1   \n",
       "4           1.71             1         0            0               0   \n",
       "\n",
       "        Citizen  ZipCode  Income  Approved  \n",
       "0       ByBirth      202       0         1  \n",
       "1       ByBirth       43     560         1  \n",
       "2       ByBirth      280     824         1  \n",
       "3       ByBirth      100       3         1  \n",
       "4  ByOtherMeans      120       0         1  "
      ]
     },
     "execution_count": 4,
     "metadata": {},
     "output_type": "execute_result"
    }
   ],
   "source": [
    "data = pd.read_csv(\"clean_creditcard.csv\", sep = \",\")\n",
    "data.head()"
   ]
  },
  {
   "cell_type": "code",
   "execution_count": 5,
   "id": "8f6483b6",
   "metadata": {},
   "outputs": [
    {
     "name": "stdout",
     "output_type": "stream",
     "text": [
      "<class 'pandas.core.frame.DataFrame'>\n",
      "RangeIndex: 690 entries, 0 to 689\n",
      "Data columns (total 16 columns):\n",
      " #   Column          Non-Null Count  Dtype  \n",
      "---  ------          --------------  -----  \n",
      " 0   Gender          690 non-null    int64  \n",
      " 1   Age             690 non-null    float64\n",
      " 2   Debt            690 non-null    float64\n",
      " 3   Married         690 non-null    int64  \n",
      " 4   BankCustomer    690 non-null    int64  \n",
      " 5   Industry        690 non-null    object \n",
      " 6   Ethnicity       690 non-null    object \n",
      " 7   YearsEmployed   690 non-null    float64\n",
      " 8   PriorDefault    690 non-null    int64  \n",
      " 9   Employed        690 non-null    int64  \n",
      " 10  CreditScore     690 non-null    int64  \n",
      " 11  DriversLicense  690 non-null    int64  \n",
      " 12  Citizen         690 non-null    object \n",
      " 13  ZipCode         690 non-null    int64  \n",
      " 14  Income          690 non-null    int64  \n",
      " 15  Approved        690 non-null    int64  \n",
      "dtypes: float64(3), int64(10), object(3)\n",
      "memory usage: 86.4+ KB\n"
     ]
    }
   ],
   "source": [
    "data.info()"
   ]
  },
  {
   "cell_type": "markdown",
   "id": "812ae153",
   "metadata": {},
   "source": [
    "We observe from the information about the dataset above that some of the features have datatype object. We need to convert these object (non-numeric) datatypes  to numeric values for the ML modeling."
   ]
  },
  {
   "cell_type": "code",
   "execution_count": 6,
   "id": "7abdf511",
   "metadata": {},
   "outputs": [
    {
     "data": {
      "text/html": [
       "<div>\n",
       "<style scoped>\n",
       "    .dataframe tbody tr th:only-of-type {\n",
       "        vertical-align: middle;\n",
       "    }\n",
       "\n",
       "    .dataframe tbody tr th {\n",
       "        vertical-align: top;\n",
       "    }\n",
       "\n",
       "    .dataframe thead th {\n",
       "        text-align: right;\n",
       "    }\n",
       "</style>\n",
       "<table border=\"1\" class=\"dataframe\">\n",
       "  <thead>\n",
       "    <tr style=\"text-align: right;\">\n",
       "      <th></th>\n",
       "      <th>Gender</th>\n",
       "      <th>Age</th>\n",
       "      <th>Debt</th>\n",
       "      <th>Married</th>\n",
       "      <th>BankCustomer</th>\n",
       "      <th>YearsEmployed</th>\n",
       "      <th>PriorDefault</th>\n",
       "      <th>Employed</th>\n",
       "      <th>CreditScore</th>\n",
       "      <th>DriversLicense</th>\n",
       "      <th>ZipCode</th>\n",
       "      <th>Income</th>\n",
       "    </tr>\n",
       "  </thead>\n",
       "  <tbody>\n",
       "    <tr>\n",
       "      <th>count</th>\n",
       "      <td>690.000000</td>\n",
       "      <td>690.000000</td>\n",
       "      <td>690.000000</td>\n",
       "      <td>690.000000</td>\n",
       "      <td>690.000000</td>\n",
       "      <td>690.000000</td>\n",
       "      <td>690.000000</td>\n",
       "      <td>690.000000</td>\n",
       "      <td>690.00000</td>\n",
       "      <td>690.000000</td>\n",
       "      <td>690.000000</td>\n",
       "      <td>690.000000</td>\n",
       "    </tr>\n",
       "    <tr>\n",
       "      <th>mean</th>\n",
       "      <td>0.695652</td>\n",
       "      <td>31.514116</td>\n",
       "      <td>4.758725</td>\n",
       "      <td>0.760870</td>\n",
       "      <td>0.763768</td>\n",
       "      <td>2.223406</td>\n",
       "      <td>0.523188</td>\n",
       "      <td>0.427536</td>\n",
       "      <td>2.40000</td>\n",
       "      <td>0.457971</td>\n",
       "      <td>180.547826</td>\n",
       "      <td>1017.385507</td>\n",
       "    </tr>\n",
       "    <tr>\n",
       "      <th>std</th>\n",
       "      <td>0.460464</td>\n",
       "      <td>11.860245</td>\n",
       "      <td>4.978163</td>\n",
       "      <td>0.426862</td>\n",
       "      <td>0.425074</td>\n",
       "      <td>3.346513</td>\n",
       "      <td>0.499824</td>\n",
       "      <td>0.495080</td>\n",
       "      <td>4.86294</td>\n",
       "      <td>0.498592</td>\n",
       "      <td>173.970323</td>\n",
       "      <td>5210.102598</td>\n",
       "    </tr>\n",
       "    <tr>\n",
       "      <th>min</th>\n",
       "      <td>0.000000</td>\n",
       "      <td>13.750000</td>\n",
       "      <td>0.000000</td>\n",
       "      <td>0.000000</td>\n",
       "      <td>0.000000</td>\n",
       "      <td>0.000000</td>\n",
       "      <td>0.000000</td>\n",
       "      <td>0.000000</td>\n",
       "      <td>0.00000</td>\n",
       "      <td>0.000000</td>\n",
       "      <td>0.000000</td>\n",
       "      <td>0.000000</td>\n",
       "    </tr>\n",
       "    <tr>\n",
       "      <th>25%</th>\n",
       "      <td>0.000000</td>\n",
       "      <td>22.670000</td>\n",
       "      <td>1.000000</td>\n",
       "      <td>1.000000</td>\n",
       "      <td>1.000000</td>\n",
       "      <td>0.165000</td>\n",
       "      <td>0.000000</td>\n",
       "      <td>0.000000</td>\n",
       "      <td>0.00000</td>\n",
       "      <td>0.000000</td>\n",
       "      <td>60.000000</td>\n",
       "      <td>0.000000</td>\n",
       "    </tr>\n",
       "    <tr>\n",
       "      <th>50%</th>\n",
       "      <td>1.000000</td>\n",
       "      <td>28.460000</td>\n",
       "      <td>2.750000</td>\n",
       "      <td>1.000000</td>\n",
       "      <td>1.000000</td>\n",
       "      <td>1.000000</td>\n",
       "      <td>1.000000</td>\n",
       "      <td>0.000000</td>\n",
       "      <td>0.00000</td>\n",
       "      <td>0.000000</td>\n",
       "      <td>160.000000</td>\n",
       "      <td>5.000000</td>\n",
       "    </tr>\n",
       "    <tr>\n",
       "      <th>75%</th>\n",
       "      <td>1.000000</td>\n",
       "      <td>37.707500</td>\n",
       "      <td>7.207500</td>\n",
       "      <td>1.000000</td>\n",
       "      <td>1.000000</td>\n",
       "      <td>2.625000</td>\n",
       "      <td>1.000000</td>\n",
       "      <td>1.000000</td>\n",
       "      <td>3.00000</td>\n",
       "      <td>1.000000</td>\n",
       "      <td>272.000000</td>\n",
       "      <td>395.500000</td>\n",
       "    </tr>\n",
       "    <tr>\n",
       "      <th>max</th>\n",
       "      <td>1.000000</td>\n",
       "      <td>80.250000</td>\n",
       "      <td>28.000000</td>\n",
       "      <td>1.000000</td>\n",
       "      <td>1.000000</td>\n",
       "      <td>28.500000</td>\n",
       "      <td>1.000000</td>\n",
       "      <td>1.000000</td>\n",
       "      <td>67.00000</td>\n",
       "      <td>1.000000</td>\n",
       "      <td>2000.000000</td>\n",
       "      <td>100000.000000</td>\n",
       "    </tr>\n",
       "  </tbody>\n",
       "</table>\n",
       "</div>"
      ],
      "text/plain": [
       "           Gender         Age        Debt     Married  BankCustomer  \\\n",
       "count  690.000000  690.000000  690.000000  690.000000    690.000000   \n",
       "mean     0.695652   31.514116    4.758725    0.760870      0.763768   \n",
       "std      0.460464   11.860245    4.978163    0.426862      0.425074   \n",
       "min      0.000000   13.750000    0.000000    0.000000      0.000000   \n",
       "25%      0.000000   22.670000    1.000000    1.000000      1.000000   \n",
       "50%      1.000000   28.460000    2.750000    1.000000      1.000000   \n",
       "75%      1.000000   37.707500    7.207500    1.000000      1.000000   \n",
       "max      1.000000   80.250000   28.000000    1.000000      1.000000   \n",
       "\n",
       "       YearsEmployed  PriorDefault    Employed  CreditScore  DriversLicense  \\\n",
       "count     690.000000    690.000000  690.000000    690.00000      690.000000   \n",
       "mean        2.223406      0.523188    0.427536      2.40000        0.457971   \n",
       "std         3.346513      0.499824    0.495080      4.86294        0.498592   \n",
       "min         0.000000      0.000000    0.000000      0.00000        0.000000   \n",
       "25%         0.165000      0.000000    0.000000      0.00000        0.000000   \n",
       "50%         1.000000      1.000000    0.000000      0.00000        0.000000   \n",
       "75%         2.625000      1.000000    1.000000      3.00000        1.000000   \n",
       "max        28.500000      1.000000    1.000000     67.00000        1.000000   \n",
       "\n",
       "           ZipCode         Income  \n",
       "count   690.000000     690.000000  \n",
       "mean    180.547826    1017.385507  \n",
       "std     173.970323    5210.102598  \n",
       "min       0.000000       0.000000  \n",
       "25%      60.000000       0.000000  \n",
       "50%     160.000000       5.000000  \n",
       "75%     272.000000     395.500000  \n",
       "max    2000.000000  100000.000000  "
      ]
     },
     "execution_count": 6,
     "metadata": {},
     "output_type": "execute_result"
    }
   ],
   "source": [
    "newdata = data.drop('Approved', axis = 'columns')\n",
    "Target = data['Approved']\n",
    "\n",
    "newdata.describe()"
   ]
  },
  {
   "cell_type": "code",
   "execution_count": 7,
   "id": "6ac714ae",
   "metadata": {},
   "outputs": [
    {
     "data": {
      "text/plain": [
       "0    383\n",
       "1    307\n",
       "Name: Approved, dtype: int64"
      ]
     },
     "execution_count": 7,
     "metadata": {},
     "output_type": "execute_result"
    }
   ],
   "source": [
    "data.Approved.value_counts()"
   ]
  },
  {
   "cell_type": "markdown",
   "id": "77825741",
   "metadata": {},
   "source": [
    "Therefore, from our dataset there is more denials (about 56%) than approvals (about 44%). This provides a benchmark for the ML modeling ahead."
   ]
  },
  {
   "cell_type": "code",
   "execution_count": 8,
   "id": "b5ac2b96",
   "metadata": {},
   "outputs": [
    {
     "data": {
      "text/html": [
       "<div>\n",
       "<style scoped>\n",
       "    .dataframe tbody tr th:only-of-type {\n",
       "        vertical-align: middle;\n",
       "    }\n",
       "\n",
       "    .dataframe tbody tr th {\n",
       "        vertical-align: top;\n",
       "    }\n",
       "\n",
       "    .dataframe thead th {\n",
       "        text-align: right;\n",
       "    }\n",
       "</style>\n",
       "<table border=\"1\" class=\"dataframe\">\n",
       "  <thead>\n",
       "    <tr style=\"text-align: right;\">\n",
       "      <th></th>\n",
       "      <th>Gender</th>\n",
       "      <th>Age</th>\n",
       "      <th>Debt</th>\n",
       "      <th>Married</th>\n",
       "      <th>BankCustomer</th>\n",
       "      <th>YearsEmployed</th>\n",
       "      <th>PriorDefault</th>\n",
       "      <th>Employed</th>\n",
       "      <th>CreditScore</th>\n",
       "      <th>DriversLicense</th>\n",
       "      <th>ZipCode</th>\n",
       "      <th>Income</th>\n",
       "    </tr>\n",
       "    <tr>\n",
       "      <th>Approved</th>\n",
       "      <th></th>\n",
       "      <th></th>\n",
       "      <th></th>\n",
       "      <th></th>\n",
       "      <th></th>\n",
       "      <th></th>\n",
       "      <th></th>\n",
       "      <th></th>\n",
       "      <th></th>\n",
       "      <th></th>\n",
       "      <th></th>\n",
       "      <th></th>\n",
       "    </tr>\n",
       "  </thead>\n",
       "  <tbody>\n",
       "    <tr>\n",
       "      <th>0</th>\n",
       "      <td>0.707572</td>\n",
       "      <td>29.773029</td>\n",
       "      <td>3.839948</td>\n",
       "      <td>0.691906</td>\n",
       "      <td>0.691906</td>\n",
       "      <td>1.257924</td>\n",
       "      <td>0.201044</td>\n",
       "      <td>0.224543</td>\n",
       "      <td>0.631854</td>\n",
       "      <td>0.443864</td>\n",
       "      <td>196.049608</td>\n",
       "      <td>198.605744</td>\n",
       "    </tr>\n",
       "    <tr>\n",
       "      <th>1</th>\n",
       "      <td>0.680782</td>\n",
       "      <td>33.686221</td>\n",
       "      <td>5.904951</td>\n",
       "      <td>0.846906</td>\n",
       "      <td>0.853420</td>\n",
       "      <td>3.427899</td>\n",
       "      <td>0.925081</td>\n",
       "      <td>0.680782</td>\n",
       "      <td>4.605863</td>\n",
       "      <td>0.475570</td>\n",
       "      <td>161.208469</td>\n",
       "      <td>2038.859935</td>\n",
       "    </tr>\n",
       "  </tbody>\n",
       "</table>\n",
       "</div>"
      ],
      "text/plain": [
       "            Gender        Age      Debt   Married  BankCustomer  \\\n",
       "Approved                                                          \n",
       "0         0.707572  29.773029  3.839948  0.691906      0.691906   \n",
       "1         0.680782  33.686221  5.904951  0.846906      0.853420   \n",
       "\n",
       "          YearsEmployed  PriorDefault  Employed  CreditScore  DriversLicense  \\\n",
       "Approved                                                                       \n",
       "0              1.257924      0.201044  0.224543     0.631854        0.443864   \n",
       "1              3.427899      0.925081  0.680782     4.605863        0.475570   \n",
       "\n",
       "             ZipCode       Income  \n",
       "Approved                           \n",
       "0         196.049608   198.605744  \n",
       "1         161.208469  2038.859935  "
      ]
     },
     "execution_count": 8,
     "metadata": {},
     "output_type": "execute_result"
    }
   ],
   "source": [
    "data.groupby('Approved').mean()"
   ]
  },
  {
   "cell_type": "markdown",
   "id": "7fdf03cd",
   "metadata": {},
   "source": [
    "## Distribution of features of Credit Card Approvals Data\n",
    "In this subsection, I examine various categorical and non-categorical features of the credit card approvals data using histogram and density plots."
   ]
  },
  {
   "cell_type": "markdown",
   "id": "d37532ab",
   "metadata": {},
   "source": [
    "#### Credit Card Approvals Based on Categorical Features\n",
    "For the categorical features, I am considering gender, married, bank customer, industry, ethnicity, prior default, employed, drivers license, citizen."
   ]
  },
  {
   "cell_type": "code",
   "execution_count": 9,
   "id": "c59d10db",
   "metadata": {},
   "outputs": [
    {
     "data": {
      "text/plain": [
       "<AxesSubplot:title={'center':'Distribution of Credit Card Approvals based on Gender'}, xlabel='Gender', ylabel='Number of Approvals'>"
      ]
     },
     "execution_count": 9,
     "metadata": {},
     "output_type": "execute_result"
    },
    {
     "data": {
      "image/png": "[encoded data removed]",
      "text/plain": [
       "<Figure size 432x288 with 1 Axes>"
      ]
     },
     "metadata": {
      "needs_background": "light"
     },
     "output_type": "display_data"
    }
   ],
   "source": [
    "ax = plt.axes()\n",
    "ax.set(xlabel='Gender', ylabel='Number of Approvals', title='Distribution of Credit Card Approvals based on Gender');\n",
    "sns.histplot(data.Gender)"
   ]
  },
  {
   "cell_type": "code",
   "execution_count": 10,
   "id": "14b3641e",
   "metadata": {},
   "outputs": [
    {
     "data": {
      "text/plain": [
       "<AxesSubplot:title={'center':'Distribution of Credit Card Approvals based on Marriage Status'}, xlabel='Married', ylabel='Number of Approvals'>"
      ]
     },
     "execution_count": 10,
     "metadata": {},
     "output_type": "execute_result"
    },
    {
     "data": {
      "image/png": "[encoded data removed]",
      "text/plain": [
       "<Figure size 432x288 with 1 Axes>"
      ]
     },
     "metadata": {
      "needs_background": "light"
     },
     "output_type": "display_data"
    }
   ],
   "source": [
    "ax = plt.axes()\n",
    "ax.set(xlabel='Married', ylabel='Number of Approvals', title='Distribution of Credit Card Approvals based on Marriage Status');\n",
    "sns.histplot(data.Married)"
   ]
  },
  {
   "cell_type": "markdown",
   "id": "d9e8ac32",
   "metadata": {},
   "source": [
    "#### Credit Card Approvals Based on Age"
   ]
  },
  {
   "cell_type": "code",
   "execution_count": 11,
   "id": "f6b0ab7e",
   "metadata": {},
   "outputs": [
    {
     "name": "stderr",
     "output_type": "stream",
     "text": [
      "/Users/paa.willie/opt/anaconda3/lib/python3.9/site-packages/seaborn/distributions.py:2619: FutureWarning: `distplot` is a deprecated function and will be removed in a future version. Please adapt your code to use either `displot` (a figure-level function with similar flexibility) or `histplot` (an axes-level function for histograms).\n",
      "  warnings.warn(msg, FutureWarning)\n"
     ]
    },
    {
     "data": {
      "text/plain": [
       "<AxesSubplot:title={'center':'Distribution of Credit Card Approvals based on Age'}, xlabel='Age', ylabel='Rate of Approval'>"
      ]
     },
     "execution_count": 11,
     "metadata": {},
     "output_type": "execute_result"
    },
    {
     "data": {
      "image/png": "[encoded data removed]",
      "text/plain": [
       "<Figure size 432x288 with 1 Axes>"
      ]
     },
     "metadata": {
      "needs_background": "light"
     },
     "output_type": "display_data"
    }
   ],
   "source": [
    "ax = plt.axes()\n",
    "ax.set(xlabel='Age', ylabel='Rate of Approval', title='Distribution of Credit Card Approvals based on Age');\n",
    "sns.distplot(data.Age, bins=10)"
   ]
  },
  {
   "cell_type": "markdown",
   "id": "8b5cd678",
   "metadata": {},
   "source": [
    "#### Credit Card Approvals Based on Debt"
   ]
  },
  {
   "cell_type": "code",
   "execution_count": 12,
   "id": "8847bbec",
   "metadata": {},
   "outputs": [
    {
     "name": "stderr",
     "output_type": "stream",
     "text": [
      "/Users/paa.willie/opt/anaconda3/lib/python3.9/site-packages/seaborn/distributions.py:2619: FutureWarning: `distplot` is a deprecated function and will be removed in a future version. Please adapt your code to use either `displot` (a figure-level function with similar flexibility) or `histplot` (an axes-level function for histograms).\n",
      "  warnings.warn(msg, FutureWarning)\n"
     ]
    },
    {
     "data": {
      "text/plain": [
       "<AxesSubplot:title={'center':'Distribution of Credit Card Approvals based on Debt'}, xlabel='Debt', ylabel='Rate of Approvals'>"
      ]
     },
     "execution_count": 12,
     "metadata": {},
     "output_type": "execute_result"
    },
    {
     "data": {
      "image/png": "[encoded data removed]",
      "text/plain": [
       "<Figure size 432x288 with 1 Axes>"
      ]
     },
     "metadata": {
      "needs_background": "light"
     },
     "output_type": "display_data"
    }
   ],
   "source": [
    "ax = plt.axes()\n",
    "ax.set(xlabel='Debt', ylabel='Rate of Approvals', title='Distribution of Credit Card Approvals based on Debt');\n",
    "sns.distplot(data.Debt, bins=10)"
   ]
  },
  {
   "cell_type": "markdown",
   "id": "0e25b3d0",
   "metadata": {},
   "source": [
    "#### Data PreProcessing and Splitting\n",
    "To carryout the machine learning models, I do some preprocessing and arbitrarily split the data into 75% training and 25% testing set. I use the 75% of the data to train the model and the remaining 25% to evaluate it."
   ]
  },
  {
   "cell_type": "markdown",
   "id": "3ddc392b",
   "metadata": {},
   "source": [
    "First, we convert all the non-numeric data features into numeric values so that we can utilize the SciKit Learn ML library. SKLearn only uses numeric data. Label encoding in the SKLearn library will be used to do the conversion."
   ]
  },
  {
   "cell_type": "code",
   "execution_count": 13,
   "id": "a4925ce8",
   "metadata": {},
   "outputs": [],
   "source": [
    "from sklearn.preprocessing import LabelEncoder\n",
    "LabEnc = LabelEncoder()\n",
    "for i in data:\n",
    "    if data[i].dtypes == \"object\":\n",
    "        LabEnc.fit(data[i])\n",
    "        data[i] = LabEnc.transform(data[i])"
   ]
  },
  {
   "cell_type": "code",
   "execution_count": 14,
   "id": "00d6e3c9",
   "metadata": {},
   "outputs": [
    {
     "name": "stdout",
     "output_type": "stream",
     "text": [
      "<class 'pandas.core.frame.DataFrame'>\n",
      "RangeIndex: 690 entries, 0 to 689\n",
      "Data columns (total 16 columns):\n",
      " #   Column          Non-Null Count  Dtype  \n",
      "---  ------          --------------  -----  \n",
      " 0   Gender          690 non-null    int64  \n",
      " 1   Age             690 non-null    float64\n",
      " 2   Debt            690 non-null    float64\n",
      " 3   Married         690 non-null    int64  \n",
      " 4   BankCustomer    690 non-null    int64  \n",
      " 5   Industry        690 non-null    int64  \n",
      " 6   Ethnicity       690 non-null    int64  \n",
      " 7   YearsEmployed   690 non-null    float64\n",
      " 8   PriorDefault    690 non-null    int64  \n",
      " 9   Employed        690 non-null    int64  \n",
      " 10  CreditScore     690 non-null    int64  \n",
      " 11  DriversLicense  690 non-null    int64  \n",
      " 12  Citizen         690 non-null    int64  \n",
      " 13  ZipCode         690 non-null    int64  \n",
      " 14  Income          690 non-null    int64  \n",
      " 15  Approved        690 non-null    int64  \n",
      "dtypes: float64(3), int64(13)\n",
      "memory usage: 86.4 KB\n"
     ]
    }
   ],
   "source": [
    "data.info()"
   ]
  },
  {
   "cell_type": "code",
   "execution_count": 15,
   "id": "87afb2ee",
   "metadata": {},
   "outputs": [
    {
     "data": {
      "text/html": [
       "<div>\n",
       "<style scoped>\n",
       "    .dataframe tbody tr th:only-of-type {\n",
       "        vertical-align: middle;\n",
       "    }\n",
       "\n",
       "    .dataframe tbody tr th {\n",
       "        vertical-align: top;\n",
       "    }\n",
       "\n",
       "    .dataframe thead th {\n",
       "        text-align: right;\n",
       "    }\n",
       "</style>\n",
       "<table border=\"1\" class=\"dataframe\">\n",
       "  <thead>\n",
       "    <tr style=\"text-align: right;\">\n",
       "      <th></th>\n",
       "      <th>Gender</th>\n",
       "      <th>Age</th>\n",
       "      <th>Debt</th>\n",
       "      <th>Married</th>\n",
       "      <th>BankCustomer</th>\n",
       "      <th>Industry</th>\n",
       "      <th>Ethnicity</th>\n",
       "      <th>YearsEmployed</th>\n",
       "      <th>PriorDefault</th>\n",
       "      <th>Employed</th>\n",
       "      <th>CreditScore</th>\n",
       "      <th>DriversLicense</th>\n",
       "      <th>Citizen</th>\n",
       "      <th>ZipCode</th>\n",
       "      <th>Income</th>\n",
       "      <th>Approved</th>\n",
       "    </tr>\n",
       "  </thead>\n",
       "  <tbody>\n",
       "    <tr>\n",
       "      <th>0</th>\n",
       "      <td>1</td>\n",
       "      <td>30.83</td>\n",
       "      <td>0.000</td>\n",
       "      <td>1</td>\n",
       "      <td>1</td>\n",
       "      <td>7</td>\n",
       "      <td>4</td>\n",
       "      <td>1.25</td>\n",
       "      <td>1</td>\n",
       "      <td>1</td>\n",
       "      <td>1</td>\n",
       "      <td>0</td>\n",
       "      <td>0</td>\n",
       "      <td>202</td>\n",
       "      <td>0</td>\n",
       "      <td>1</td>\n",
       "    </tr>\n",
       "    <tr>\n",
       "      <th>1</th>\n",
       "      <td>0</td>\n",
       "      <td>58.67</td>\n",
       "      <td>4.460</td>\n",
       "      <td>1</td>\n",
       "      <td>1</td>\n",
       "      <td>9</td>\n",
       "      <td>1</td>\n",
       "      <td>3.04</td>\n",
       "      <td>1</td>\n",
       "      <td>1</td>\n",
       "      <td>6</td>\n",
       "      <td>0</td>\n",
       "      <td>0</td>\n",
       "      <td>43</td>\n",
       "      <td>560</td>\n",
       "      <td>1</td>\n",
       "    </tr>\n",
       "    <tr>\n",
       "      <th>2</th>\n",
       "      <td>0</td>\n",
       "      <td>24.50</td>\n",
       "      <td>0.500</td>\n",
       "      <td>1</td>\n",
       "      <td>1</td>\n",
       "      <td>9</td>\n",
       "      <td>1</td>\n",
       "      <td>1.50</td>\n",
       "      <td>1</td>\n",
       "      <td>0</td>\n",
       "      <td>0</td>\n",
       "      <td>0</td>\n",
       "      <td>0</td>\n",
       "      <td>280</td>\n",
       "      <td>824</td>\n",
       "      <td>1</td>\n",
       "    </tr>\n",
       "    <tr>\n",
       "      <th>3</th>\n",
       "      <td>1</td>\n",
       "      <td>27.83</td>\n",
       "      <td>1.540</td>\n",
       "      <td>1</td>\n",
       "      <td>1</td>\n",
       "      <td>7</td>\n",
       "      <td>4</td>\n",
       "      <td>3.75</td>\n",
       "      <td>1</td>\n",
       "      <td>1</td>\n",
       "      <td>5</td>\n",
       "      <td>1</td>\n",
       "      <td>0</td>\n",
       "      <td>100</td>\n",
       "      <td>3</td>\n",
       "      <td>1</td>\n",
       "    </tr>\n",
       "    <tr>\n",
       "      <th>4</th>\n",
       "      <td>1</td>\n",
       "      <td>20.17</td>\n",
       "      <td>5.625</td>\n",
       "      <td>1</td>\n",
       "      <td>1</td>\n",
       "      <td>7</td>\n",
       "      <td>4</td>\n",
       "      <td>1.71</td>\n",
       "      <td>1</td>\n",
       "      <td>0</td>\n",
       "      <td>0</td>\n",
       "      <td>0</td>\n",
       "      <td>1</td>\n",
       "      <td>120</td>\n",
       "      <td>0</td>\n",
       "      <td>1</td>\n",
       "    </tr>\n",
       "  </tbody>\n",
       "</table>\n",
       "</div>"
      ],
      "text/plain": [
       "   Gender    Age   Debt  Married  BankCustomer  Industry  Ethnicity  \\\n",
       "0       1  30.83  0.000        1             1         7          4   \n",
       "1       0  58.67  4.460        1             1         9          1   \n",
       "2       0  24.50  0.500        1             1         9          1   \n",
       "3       1  27.83  1.540        1             1         7          4   \n",
       "4       1  20.17  5.625        1             1         7          4   \n",
       "\n",
       "   YearsEmployed  PriorDefault  Employed  CreditScore  DriversLicense  \\\n",
       "0           1.25             1         1            1               0   \n",
       "1           3.04             1         1            6               0   \n",
       "2           1.50             1         0            0               0   \n",
       "3           3.75             1         1            5               1   \n",
       "4           1.71             1         0            0               0   \n",
       "\n",
       "   Citizen  ZipCode  Income  Approved  \n",
       "0        0      202       0         1  \n",
       "1        0       43     560         1  \n",
       "2        0      280     824         1  \n",
       "3        0      100       3         1  \n",
       "4        1      120       0         1  "
      ]
     },
     "execution_count": 15,
     "metadata": {},
     "output_type": "execute_result"
    }
   ],
   "source": [
    "data.head()"
   ]
  },
  {
   "cell_type": "code",
   "execution_count": 16,
   "id": "d62316df",
   "metadata": {},
   "outputs": [
    {
     "name": "stdout",
     "output_type": "stream",
     "text": [
      "173\n",
      "517\n"
     ]
    }
   ],
   "source": [
    "X_train, X_test, y_train, y_test = train_test_split(data.drop(['Approved'], axis = 'columns'), data.Approved, test_size=0.25)\n",
    "print(len(X_test))\n",
    "print(len(X_train))"
   ]
  },
  {
   "cell_type": "markdown",
   "id": "49e77738",
   "metadata": {},
   "source": [
    "#### Rescaling Data\n",
    "Now that we have successfully split our dataset into training and testing sets, let's rescale the observations of the various features to range between 0 and 1. "
   ]
  },
  {
   "cell_type": "code",
   "execution_count": 17,
   "id": "e1423e6d",
   "metadata": {},
   "outputs": [],
   "source": [
    "from sklearn.preprocessing import MinMaxScaler\n",
    "\n",
    "scaler = MinMaxScaler(feature_range = (0,1))\n",
    "rX_test = scaler.fit_transform(X_test)\n",
    "rX_train = scaler.fit_transform(X_train)"
   ]
  },
  {
   "cell_type": "code",
   "execution_count": 18,
   "id": "61a5076f",
   "metadata": {},
   "outputs": [
    {
     "name": "stdout",
     "output_type": "stream",
     "text": [
      "173\n",
      "517\n"
     ]
    }
   ],
   "source": [
    "print(len(rX_test))\n",
    "print(len(rX_train))"
   ]
  },
  {
   "cell_type": "markdown",
   "id": "4f3865c5",
   "metadata": {},
   "source": [
    "#### Logistic Regression\n",
    "From the dataset, we have several features (explanatory variables) and a response variable (Approval or Denial). This kind of data requires a supervised machine learning model like classification models. Logistic Regression is a classification model that helps to model relationship or correlations between the target variable and the explanatory variables. Logistic regression falls under generalized linear models."
   ]
  },
  {
   "cell_type": "code",
   "execution_count": 19,
   "id": "ef60c913",
   "metadata": {},
   "outputs": [
    {
     "data": {
      "text/plain": [
       "LogisticRegression()"
      ]
     },
     "execution_count": 19,
     "metadata": {},
     "output_type": "execute_result"
    }
   ],
   "source": [
    "from sklearn.linear_model import LogisticRegression\n",
    "\n",
    "lg = LogisticRegression()\n",
    "lg.fit(rX_train, y_train)"
   ]
  },
  {
   "cell_type": "markdown",
   "id": "19481d3b",
   "metadata": {},
   "source": [
    "#### Model Prediction & Performance\n",
    "We use the logistic regression model fit above to generate some predictions using the test data. Also, we compute the confusion matrix and accuracy to examine the performance of the model."
   ]
  },
  {
   "cell_type": "code",
   "execution_count": 20,
   "id": "9f3b428d",
   "metadata": {},
   "outputs": [
    {
     "data": {
      "text/plain": [
       "array([0, 0, 0, 0, 1, 1, 1, 1, 1, 1, 0, 1, 1, 0, 0, 0, 1, 0, 1, 1, 1, 0,\n",
       "       0, 1, 1, 1, 0, 1, 1, 0, 1, 1, 1, 0, 0, 0, 0, 0, 1, 1, 0, 1, 0, 1,\n",
       "       1, 1, 1, 1, 0, 0, 0, 0, 1, 0, 0, 1, 0, 1, 1, 0, 0, 0, 1, 1, 1, 1,\n",
       "       1, 1, 1, 1, 1, 0, 0, 0, 1, 0, 1, 1, 1, 1, 1, 0, 1, 1, 1, 0, 0, 0,\n",
       "       0, 0, 0, 1, 1, 1, 1, 0, 1, 0, 0, 1, 0, 1, 1, 1, 1, 1, 1, 1, 1, 1,\n",
       "       0, 1, 1, 1, 1, 0, 0, 1, 1, 0, 0, 0, 0, 0, 0, 0, 1, 0, 0, 1, 0, 0,\n",
       "       0, 1, 0, 1, 1, 1, 0, 1, 0, 0, 1, 0, 0, 1, 1, 1, 1, 1, 0, 0, 0, 1,\n",
       "       1, 0, 1, 0, 0, 0, 0, 1, 1, 0, 0, 1, 0, 0, 0, 0, 0, 0, 0])"
      ]
     },
     "execution_count": 20,
     "metadata": {},
     "output_type": "execute_result"
    }
   ],
   "source": [
    "y_pred = lg.predict(rX_test)\n",
    "y_pred"
   ]
  },
  {
   "cell_type": "code",
   "execution_count": 21,
   "id": "e60aaf09",
   "metadata": {},
   "outputs": [
    {
     "name": "stdout",
     "output_type": "stream",
     "text": [
      "Accuracy of logistic regression classifier =  0.85\n"
     ]
    }
   ],
   "source": [
    "lgaccuracy = lg.score(rX_test, y_test)\n",
    "print(\"Accuracy of logistic regression classifier = \", round(lgaccuracy, 2))"
   ]
  },
  {
   "cell_type": "markdown",
   "id": "3e0c9c61",
   "metadata": {},
   "source": [
    "The logistic regression classifier is evaluated on the test data and its performance when making predictions on new data has an accuracy of about 85%. Now, let's examine the confusion matrix to observe the true negatives and true positives."
   ]
  },
  {
   "cell_type": "code",
   "execution_count": 22,
   "id": "0088a92f",
   "metadata": {},
   "outputs": [
    {
     "data": {
      "text/plain": [
       "Text(15.0, 0.5, 'Actual')"
      ]
     },
     "execution_count": 22,
     "metadata": {},
     "output_type": "execute_result"
    },
    {
     "data": {
      "image/png": "[encoded data removed]",
      "text/plain": [
       "<Figure size 288x288 with 2 Axes>"
      ]
     },
     "metadata": {
      "needs_background": "light"
     },
     "output_type": "display_data"
    }
   ],
   "source": [
    "from sklearn.metrics import confusion_matrix\n",
    "lgconfmat = confusion_matrix(y_test, y_pred)\n",
    "\n",
    "plt.figure(figsize = (4, 4))\n",
    "sns.heatmap(lgconfmat, annot = True)\n",
    "plt.xlabel('Predicted')\n",
    "plt.ylabel('Actual')\n",
    "#print(\"Confusion matrix of logistic regression classifier =\", lgconfmat)"
   ]
  },
  {
   "cell_type": "code",
   "execution_count": 23,
   "id": "121b43c9",
   "metadata": {},
   "outputs": [
    {
     "name": "stdout",
     "output_type": "stream",
     "text": [
      "True Positives = 69\n",
      "False Positives = 21\n",
      "True Negatives = 78\n",
      "False Negatives = 5\n"
     ]
    }
   ],
   "source": [
    "TN, FP, FN, TP = confusion_matrix(y_test, y_pred).ravel()\n",
    "print(f'True Positives = {TP}')\n",
    "print(f'False Positives = {FP}')\n",
    "print(f'True Negatives = {TN}')\n",
    "print(f'False Negatives = {FN}')"
   ]
  },
  {
   "cell_type": "markdown",
   "id": "4bfd1f3a",
   "metadata": {},
   "source": [
    "From our initial model, we observe that out of 173 predictions made, we are wrong 26 times and correct 147 times which is approximately 85% given by the model accuracy. We now take it a step further to calculate the True Positive Ratio (a.k.a Sensitivity or Recall) and False Positive Ratio. These two (2) measures helps us to generate the Reciever Operating Characteristic curve or the ROC. The ROC graph provides a visualization plot of TRP vrs FPR at various classification probability thresholds ranging from 0 to 1."
   ]
  },
  {
   "cell_type": "code",
   "execution_count": 73,
   "id": "5aeb3acf",
   "metadata": {},
   "outputs": [],
   "source": [
    "probs = lg.predict_proba(X_test)[:, 1]\n",
    "def conv_preds(threshold, probabilities):\n",
    "    return [1 if prob > threshold else 0 for prob in probabilities]"
   ]
  },
  {
   "cell_type": "code",
   "execution_count": 74,
   "id": "ed6a5ca4",
   "metadata": {},
   "outputs": [],
   "source": [
    "ROC_vals = []\n",
    "for threshold in np.linspace(0, 1, 50):\n",
    "    preds = conv_preds(threshold, probs)\n",
    "    TN, FP, FN, TP = confusion_matrix(y_test, preds).ravel()\n",
    "    TPR = TP/(TP + FN)\n",
    "    FPR = FP/(FP + TN)\n",
    "    ROC_vals.append([TPR, FPR])\n",
    "TPR_vals, FPR_vals = zip(*ROC_vals)"
   ]
  },
  {
   "cell_type": "code",
   "execution_count": 99,
   "id": "cd02dec6",
   "metadata": {},
   "outputs": [
    {
     "data": {
      "image/png": "[encoded data removed]",
      "text/plain": [
       "<Figure size 360x360 with 1 Axes>"
      ]
     },
     "metadata": {
      "needs_background": "light"
     },
     "output_type": "display_data"
    }
   ],
   "source": [
    "fig, ax = plt.subplots(figsize = (5, 5))\n",
    "ax.plot(FPR_vals, TPR_vals, label = 'TPR vrs FPR')\n",
    "ax.plot(np.linspace(0, 1, 50), np.linspace(0, 1, 50), label = 'Baseline', linestyle = '-.')\n",
    "plt.title('ROC GRAPH', fontsize = 13)\n",
    "plt.xlabel('FPR', fontsize = 12)\n",
    "plt.ylabel('TPR', fontsize = 12)\n",
    "plt.legend(fontsize = 10);"
   ]
  },
  {
   "cell_type": "code",
   "execution_count": 76,
   "id": "53c44678",
   "metadata": {},
   "outputs": [
    {
     "data": {
      "text/plain": [
       "0.5"
      ]
     },
     "execution_count": 76,
     "metadata": {},
     "output_type": "execute_result"
    }
   ],
   "source": [
    "from sklearn.metrics import roc_auc_score\n",
    "roc_auc_score(y_test, preds)"
   ]
  },
  {
   "cell_type": "markdown",
   "id": "a8732edc",
   "metadata": {},
   "source": [
    "The yellow dashed diagonal line (where TPR = FPR) in the ROC graph represents AUC of 0.5. It should be noted that a model, like ours, that randomly guesses predictions has Area Under Curve (AUC) of 0.5 and if AUC of a model is greater than 0.5, the model is better than random guessing. Thus, the higher the better."
   ]
  },
  {
   "cell_type": "code",
   "execution_count": null,
   "id": "f133ec75",
   "metadata": {},
   "outputs": [],
   "source": []
  }
 ],
 "metadata": {
  "kernelspec": {
   "display_name": "Python 3 (ipykernel)",
   "language": "python",
   "name": "python3"
  },
  "language_info": {
   "codemirror_mode": {
    "name": "ipython",
    "version": 3
   },
   "file_extension": ".py",
   "mimetype": "text/x-python",
   "name": "python",
   "nbconvert_exporter": "python",
   "pygments_lexer": "ipython3",
   "version": "3.9.7"
  }
 },
 "nbformat": 4,
 "nbformat_minor": 5
}
